{
 "cells": [
  {
   "cell_type": "code",
   "execution_count": 5,
   "metadata": {},
   "outputs": [],
   "source": [
    "import pandas as pd\n",
    "import numpy as np\n",
    "from pathlib import Path\n",
    "from bisect import bisect\n",
    "\n",
    "import matplotlib.pyplot as plt\n",
    "import seaborn as sns\n",
    "\n",
    "import warnings\n",
    "warnings.filterwarnings('ignore')\n",
    "\n",
    "%matplotlib inline\n",
    "sns.set_style('whitegrid')\n",
    "pd.options.display.max_columns = 999\n",
    "pd.options.display.max_rows = 999"
   ]
  },
  {
   "cell_type": "code",
   "execution_count": 6,
   "metadata": {},
   "outputs": [],
   "source": [
    "def prepare_data(df):\n",
    "    \n",
    "    df['Euclidean_distance_to_hydro'] = (df.Vertical_Distance_To_Hydrology**2 + df.Horizontal_Distance_To_Hydrology**2)**.5\n",
    "    \n",
    "    cols = ['Horizontal_Distance_To_Roadways', 'Horizontal_Distance_To_Fire_Points',\n",
    "            'Euclidean_distance_to_hydro']\n",
    "    \n",
    "    df['distance_mean']       = df[cols].mean(axis=1)\n",
    "    df['distance_sum']        = df[cols].sum(axis=1)\n",
    "    df['distance_road_fire']  = df[cols[:2]].mean(axis=1)\n",
    "    df['distance_hydro_fire'] = df[cols[1:]].mean(axis=1)\n",
    "    df['distance_road_hydro'] = df[[cols[0], cols[2]]].mean(axis=1)\n",
    "    \n",
    "    df['distance_sum_road_fire']  = df[cols[:2]].sum(axis=1)\n",
    "    df['distance_sum_hydro_fire'] = df[cols[1:]].sum(axis=1)\n",
    "    df['distance_sum_road_hydro'] = df[[cols[0], cols[2]]].sum(axis=1)\n",
    "    \n",
    "    df['distance_dif_road_fire']  = df[cols[0]] - df[cols[1]]\n",
    "    df['distance_dif_hydro_road'] = df[cols[2]] - df[cols[0]]\n",
    "    df['distance_dif_hydro_fire'] = df[cols[2]] - df[cols[1]]\n",
    "    \n",
    "    SHADES = ['Hillshade_9am', 'Hillshade_Noon', 'Hillshade_3pm']\n",
    "    \n",
    "    df['shade_noon_diff'] = df['Hillshade_9am'] - df['Hillshade_Noon']\n",
    "    df['shade_3pm_diff']  = df['Hillshade_Noon'] - df['Hillshade_3pm']\n",
    "    df['shade_all_diff']  = df['Hillshade_9am'] - df['Hillshade_3pm']\n",
    "    df['shade_sum']       = df[SHADES].sum(axis=1)\n",
    "    df['shade_mean']      = df[SHADES].mean(axis=1)\n",
    "    \n",
    "    df['ElevationHydro'] = df['Elevation'] - 0.25 * df['Euclidean_distance_to_hydro']\n",
    "    \n",
    "    df['ElevationV'] = df['Elevation'] - df['Vertical_Distance_To_Hydrology']\n",
    "    \n",
    "    df['ElevationH'] = df['Elevation'] - 0.19 * df['Horizontal_Distance_To_Hydrology']\n",
    "    \n",
    "    df['Elevation2'] = df['Elevation']**2\n",
    "    df['ElevationLog'] = np.log1p(df['Elevation'])\n",
    "    \n",
    "    df['Aspect_sin'] = np.sin(np.radians(df.Aspect))\n",
    "    df['Aspect_cos'] = np.cos(np.radians(df.Aspect))\n",
    "    df['Slope_sin'] = np.sin(np.radians(df.Slope))  \n",
    "    df['Slope_cos'] = np.cos(np.radians(df.Slope))\n",
    "    \n",
    "    cardinals = [i for i in range(45, 361, 90)]\n",
    "    points = ['N', 'E', 'S', 'W']\n",
    "    \n",
    "    df['Cardinal'] = df.Aspect.apply(lambda x: points[bisect(cardinals, x) % 4])\n",
    "    \n",
    "    d = {'N': 0, 'E': 1, 'S': 0, 'W':-1}\n",
    "    df['Cardinal'] = df.Cardinal.apply(lambda x: d[x])\n",
    "\n",
    "    return df"
   ]
  },
  {
   "cell_type": "code",
   "execution_count": 11,
   "metadata": {},
   "outputs": [],
   "source": [
    "input_data = Path('../data/input/')\n",
    "interim_data = Path('../data/interim/')\n",
    "train_file = Path('train.csv')\n",
    "train_output_file = Path('train_feature_engineering_v1.csv')\n",
    "test_file = Path('test.csv')\n",
    "test_output_file = Path('test_feature_engineering_v1.csv')"
   ]
  },
  {
   "cell_type": "code",
   "execution_count": 8,
   "metadata": {},
   "outputs": [],
   "source": [
    "train = pd.read_csv(input_data/train_file, index_col=0)\n",
    "test = pd.read_csv(input_data/test_file, index_col=0)"
   ]
  },
  {
   "cell_type": "code",
   "execution_count": 9,
   "metadata": {},
   "outputs": [],
   "source": [
    "train = prepare_data(train)\n",
    "test = prepare_data(test)"
   ]
  },
  {
   "cell_type": "code",
   "execution_count": 12,
   "metadata": {},
   "outputs": [],
   "source": [
    "train.to_csv(interim_data/train_output_file)\n",
    "test.to_csv(interim_data/test_output_file)"
   ]
  }
 ],
 "metadata": {
  "kernelspec": {
   "display_name": "Python 3",
   "language": "python",
   "name": "python3"
  },
  "language_info": {
   "codemirror_mode": {
    "name": "ipython",
    "version": 3
   },
   "file_extension": ".py",
   "mimetype": "text/x-python",
   "name": "python",
   "nbconvert_exporter": "python",
   "pygments_lexer": "ipython3",
   "version": "3.5.4"
  }
 },
 "nbformat": 4,
 "nbformat_minor": 2
}
