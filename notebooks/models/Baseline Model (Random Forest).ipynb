{
 "cells": [
  {
   "cell_type": "code",
   "execution_count": 1,
   "metadata": {},
   "outputs": [],
   "source": [
    "import pandas as pd\n",
    "import numpy as np\n",
    "from pathlib import Path\n",
    "\n",
    "import matplotlib.pyplot as plt\n",
    "%matplotlib inline\n",
    "import seaborn as sns\n",
    "sns.set_style('whitegrid')\n",
    "sns.set_palette(\"Blues\")\n",
    "\n",
    "import warnings\n",
    "warnings.filterwarnings('ignore')\n",
    "\n",
    "from sklearn.ensemble import RandomForestClassifier\n",
    "from sklearn.metrics import accuracy_score, confusion_matrix, classification_report\n",
    "from sklearn.model_selection import KFold, cross_val_score, cross_val_predict\n",
    "from sklearn.cluster import KMeans\n",
    "\n",
    "pd.options.display.max_columns = 999\n",
    "pd.options.display.max_rows = 999"
   ]
  },
  {
   "cell_type": "code",
   "execution_count": 2,
   "metadata": {},
   "outputs": [],
   "source": [
    "INPUT_FOLDER = Path('../../data/interim/')\n",
    "train_file = Path('train_prepared.csv')\n",
    "test_file = Path('test_prepared.csv')\n",
    "\n",
    "seed = 1337"
   ]
  },
  {
   "cell_type": "code",
   "execution_count": 3,
   "metadata": {},
   "outputs": [],
   "source": [
    "train = pd.read_csv(INPUT_FOLDER/train_file, index_col=0)\n",
    "test = pd.read_csv(INPUT_FOLDER/test_file, index_col=0)"
   ]
  },
  {
   "cell_type": "code",
   "execution_count": 4,
   "metadata": {},
   "outputs": [
    {
     "data": {
      "text/html": [
       "<div>\n",
       "<style scoped>\n",
       "    .dataframe tbody tr th:only-of-type {\n",
       "        vertical-align: middle;\n",
       "    }\n",
       "\n",
       "    .dataframe tbody tr th {\n",
       "        vertical-align: top;\n",
       "    }\n",
       "\n",
       "    .dataframe thead th {\n",
       "        text-align: right;\n",
       "    }\n",
       "</style>\n",
       "<table border=\"1\" class=\"dataframe\">\n",
       "  <thead>\n",
       "    <tr style=\"text-align: right;\">\n",
       "      <th></th>\n",
       "      <th>Elevation</th>\n",
       "      <th>Horizontal_Distance_To_Hydrology</th>\n",
       "      <th>Horizontal_Distance_To_Roadways</th>\n",
       "      <th>Hillshade_9am</th>\n",
       "      <th>Hillshade_Noon</th>\n",
       "      <th>Horizontal_Distance_To_Fire_Points</th>\n",
       "      <th>Stoneyness</th>\n",
       "      <th>Wilderness</th>\n",
       "      <th>SoilType</th>\n",
       "      <th>Euclidean_distance_to_hydro</th>\n",
       "      <th>distance_hydro_fire</th>\n",
       "      <th>distance_road_hydro</th>\n",
       "      <th>distance_sum_hydro_fire</th>\n",
       "      <th>distance_sum_road_hydro</th>\n",
       "      <th>distance_dif_road_fire</th>\n",
       "      <th>distance_dif_hydro_road</th>\n",
       "      <th>distance_dif_hydro_fire</th>\n",
       "      <th>shade_3pm_diff</th>\n",
       "      <th>ElevationHydro</th>\n",
       "      <th>ElevationV</th>\n",
       "      <th>ElevationH</th>\n",
       "      <th>Elevation2</th>\n",
       "      <th>ElevationLog</th>\n",
       "      <th>Aspect_cos</th>\n",
       "      <th>Cover_Type</th>\n",
       "    </tr>\n",
       "  </thead>\n",
       "  <tbody>\n",
       "    <tr>\n",
       "      <td>15116</td>\n",
       "      <td>2603</td>\n",
       "      <td>633</td>\n",
       "      <td>618</td>\n",
       "      <td>249</td>\n",
       "      <td>221</td>\n",
       "      <td>1325</td>\n",
       "      <td>1</td>\n",
       "      <td>2</td>\n",
       "      <td>17</td>\n",
       "      <td>662.354890</td>\n",
       "      <td>993.677445</td>\n",
       "      <td>640.177445</td>\n",
       "      <td>1987.354890</td>\n",
       "      <td>1280.354890</td>\n",
       "      <td>-707</td>\n",
       "      <td>44.354890</td>\n",
       "      <td>-662.645110</td>\n",
       "      <td>130</td>\n",
       "      <td>2437.411278</td>\n",
       "      <td>2408</td>\n",
       "      <td>2482.73</td>\n",
       "      <td>6775609</td>\n",
       "      <td>7.864804</td>\n",
       "      <td>-0.515038</td>\n",
       "      <td>3</td>\n",
       "    </tr>\n",
       "    <tr>\n",
       "      <td>15117</td>\n",
       "      <td>2492</td>\n",
       "      <td>365</td>\n",
       "      <td>335</td>\n",
       "      <td>250</td>\n",
       "      <td>220</td>\n",
       "      <td>1187</td>\n",
       "      <td>1</td>\n",
       "      <td>2</td>\n",
       "      <td>17</td>\n",
       "      <td>383.293621</td>\n",
       "      <td>785.146811</td>\n",
       "      <td>359.146811</td>\n",
       "      <td>1570.293621</td>\n",
       "      <td>718.293621</td>\n",
       "      <td>-852</td>\n",
       "      <td>48.293621</td>\n",
       "      <td>-803.706379</td>\n",
       "      <td>137</td>\n",
       "      <td>2396.176595</td>\n",
       "      <td>2375</td>\n",
       "      <td>2422.65</td>\n",
       "      <td>6210064</td>\n",
       "      <td>7.821242</td>\n",
       "      <td>-0.694658</td>\n",
       "      <td>3</td>\n",
       "    </tr>\n",
       "    <tr>\n",
       "      <td>15118</td>\n",
       "      <td>2487</td>\n",
       "      <td>218</td>\n",
       "      <td>242</td>\n",
       "      <td>229</td>\n",
       "      <td>237</td>\n",
       "      <td>932</td>\n",
       "      <td>1</td>\n",
       "      <td>2</td>\n",
       "      <td>17</td>\n",
       "      <td>240.260276</td>\n",
       "      <td>586.130138</td>\n",
       "      <td>241.130138</td>\n",
       "      <td>1172.260276</td>\n",
       "      <td>482.260276</td>\n",
       "      <td>-690</td>\n",
       "      <td>-1.739724</td>\n",
       "      <td>-691.739724</td>\n",
       "      <td>118</td>\n",
       "      <td>2426.934931</td>\n",
       "      <td>2386</td>\n",
       "      <td>2445.58</td>\n",
       "      <td>6185169</td>\n",
       "      <td>7.819234</td>\n",
       "      <td>-0.974370</td>\n",
       "      <td>3</td>\n",
       "    </tr>\n",
       "    <tr>\n",
       "      <td>15119</td>\n",
       "      <td>2475</td>\n",
       "      <td>319</td>\n",
       "      <td>270</td>\n",
       "      <td>189</td>\n",
       "      <td>244</td>\n",
       "      <td>914</td>\n",
       "      <td>3</td>\n",
       "      <td>2</td>\n",
       "      <td>5</td>\n",
       "      <td>328.397625</td>\n",
       "      <td>621.198812</td>\n",
       "      <td>299.198812</td>\n",
       "      <td>1242.397625</td>\n",
       "      <td>598.397625</td>\n",
       "      <td>-644</td>\n",
       "      <td>58.397625</td>\n",
       "      <td>-585.602375</td>\n",
       "      <td>80</td>\n",
       "      <td>2392.900594</td>\n",
       "      <td>2397</td>\n",
       "      <td>2414.39</td>\n",
       "      <td>6125625</td>\n",
       "      <td>7.814400</td>\n",
       "      <td>-0.956305</td>\n",
       "      <td>3</td>\n",
       "    </tr>\n",
       "    <tr>\n",
       "      <td>15120</td>\n",
       "      <td>2680</td>\n",
       "      <td>0</td>\n",
       "      <td>2684</td>\n",
       "      <td>196</td>\n",
       "      <td>214</td>\n",
       "      <td>6645</td>\n",
       "      <td>4</td>\n",
       "      <td>0</td>\n",
       "      <td>10</td>\n",
       "      <td>0.000000</td>\n",
       "      <td>3322.500000</td>\n",
       "      <td>1342.000000</td>\n",
       "      <td>6645.000000</td>\n",
       "      <td>2684.000000</td>\n",
       "      <td>-3961</td>\n",
       "      <td>-2684.000000</td>\n",
       "      <td>-6645.000000</td>\n",
       "      <td>58</td>\n",
       "      <td>2680.000000</td>\n",
       "      <td>2680</td>\n",
       "      <td>2680.00</td>\n",
       "      <td>7182400</td>\n",
       "      <td>7.893945</td>\n",
       "      <td>0.994522</td>\n",
       "      <td>1</td>\n",
       "    </tr>\n",
       "  </tbody>\n",
       "</table>\n",
       "</div>"
      ],
      "text/plain": [
       "       Elevation  Horizontal_Distance_To_Hydrology  \\\n",
       "15116       2603                               633   \n",
       "15117       2492                               365   \n",
       "15118       2487                               218   \n",
       "15119       2475                               319   \n",
       "15120       2680                                 0   \n",
       "\n",
       "       Horizontal_Distance_To_Roadways  Hillshade_9am  Hillshade_Noon  \\\n",
       "15116                              618            249             221   \n",
       "15117                              335            250             220   \n",
       "15118                              242            229             237   \n",
       "15119                              270            189             244   \n",
       "15120                             2684            196             214   \n",
       "\n",
       "       Horizontal_Distance_To_Fire_Points  Stoneyness  Wilderness  SoilType  \\\n",
       "15116                                1325           1           2        17   \n",
       "15117                                1187           1           2        17   \n",
       "15118                                 932           1           2        17   \n",
       "15119                                 914           3           2         5   \n",
       "15120                                6645           4           0        10   \n",
       "\n",
       "       Euclidean_distance_to_hydro  distance_hydro_fire  distance_road_hydro  \\\n",
       "15116                   662.354890           993.677445           640.177445   \n",
       "15117                   383.293621           785.146811           359.146811   \n",
       "15118                   240.260276           586.130138           241.130138   \n",
       "15119                   328.397625           621.198812           299.198812   \n",
       "15120                     0.000000          3322.500000          1342.000000   \n",
       "\n",
       "       distance_sum_hydro_fire  distance_sum_road_hydro  \\\n",
       "15116              1987.354890              1280.354890   \n",
       "15117              1570.293621               718.293621   \n",
       "15118              1172.260276               482.260276   \n",
       "15119              1242.397625               598.397625   \n",
       "15120              6645.000000              2684.000000   \n",
       "\n",
       "       distance_dif_road_fire  distance_dif_hydro_road  \\\n",
       "15116                    -707                44.354890   \n",
       "15117                    -852                48.293621   \n",
       "15118                    -690                -1.739724   \n",
       "15119                    -644                58.397625   \n",
       "15120                   -3961             -2684.000000   \n",
       "\n",
       "       distance_dif_hydro_fire  shade_3pm_diff  ElevationHydro  ElevationV  \\\n",
       "15116              -662.645110             130     2437.411278        2408   \n",
       "15117              -803.706379             137     2396.176595        2375   \n",
       "15118              -691.739724             118     2426.934931        2386   \n",
       "15119              -585.602375              80     2392.900594        2397   \n",
       "15120             -6645.000000              58     2680.000000        2680   \n",
       "\n",
       "       ElevationH  Elevation2  ElevationLog  Aspect_cos  Cover_Type  \n",
       "15116     2482.73     6775609      7.864804   -0.515038           3  \n",
       "15117     2422.65     6210064      7.821242   -0.694658           3  \n",
       "15118     2445.58     6185169      7.819234   -0.974370           3  \n",
       "15119     2414.39     6125625      7.814400   -0.956305           3  \n",
       "15120     2680.00     7182400      7.893945    0.994522           1  "
      ]
     },
     "execution_count": 4,
     "metadata": {},
     "output_type": "execute_result"
    }
   ],
   "source": [
    "train.tail()"
   ]
  },
  {
   "cell_type": "markdown",
   "metadata": {},
   "source": [
    "### Preparing the data"
   ]
  },
  {
   "cell_type": "code",
   "execution_count": 5,
   "metadata": {},
   "outputs": [],
   "source": [
    "kfold = KFold(n_splits=5)\n",
    "\n",
    "X = train.drop('Cover_Type', 1)\n",
    "y = train['Cover_Type']\n",
    "\n",
    "X_val = test.drop('Cover_Type', 1)\n",
    "y_val = test['Cover_Type']"
   ]
  },
  {
   "cell_type": "markdown",
   "metadata": {},
   "source": [
    "### Baseline model training"
   ]
  },
  {
   "cell_type": "code",
   "execution_count": 6,
   "metadata": {
    "scrolled": false
   },
   "outputs": [],
   "source": [
    "rf_baseline_model = RandomForestClassifier(n_estimators=400, random_state=seed, n_jobs=-1)\n",
    "oof_predictions = cross_val_predict(rf_baseline_model, X, y, cv=kfold)\n",
    "rf_baseline_model = rf_baseline_model.fit(X, y)"
   ]
  },
  {
   "cell_type": "code",
   "execution_count": 7,
   "metadata": {},
   "outputs": [],
   "source": [
    "importance = pd.DataFrame({'feature': X.columns, 'importance': rf_baseline_model.feature_importances_}).sort_values(\n",
    "    by='importance', ascending=False)"
   ]
  },
  {
   "cell_type": "code",
   "execution_count": 8,
   "metadata": {},
   "outputs": [
    {
     "data": {
      "image/png": "[encoded data removed]",
      "text/plain": [
       "<Figure size 576x432 with 1 Axes>"
      ]
     },
     "metadata": {
      "needs_background": "light"
     },
     "output_type": "display_data"
    },
    {
     "name": "stdout",
     "output_type": "stream",
     "text": [
      "\n",
      "> Random Forest baseline model accuracy score: 0.8314\n",
      "\n",
      "              precision    recall  f1-score   support\n",
      "\n",
      "           1       0.72      0.74      0.73      2161\n",
      "           2       0.73      0.63      0.68      2160\n",
      "           3       0.80      0.80      0.80      2160\n",
      "           4       0.93      0.96      0.95      2160\n",
      "           5       0.87      0.93      0.90      2160\n",
      "           6       0.82      0.82      0.82      2160\n",
      "           7       0.91      0.94      0.93      2160\n",
      "\n",
      "    accuracy                           0.83     15121\n",
      "   macro avg       0.83      0.83      0.83     15121\n",
      "weighted avg       0.83      0.83      0.83     15121\n",
      "\n"
     ]
    },
    {
     "data": {
      "image/png": "[encoded data removed]",
      "text/plain": [
       "<Figure size 432x360 with 1 Axes>"
      ]
     },
     "metadata": {
      "needs_background": "light"
     },
     "output_type": "display_data"
    }
   ],
   "source": [
    "plt.figure(figsize=(8, 6))\n",
    "sns.barplot(x=importance['importance'], y=importance['feature'], palette='Blues_r')\n",
    "plt.title('Feature Importance')\n",
    "plt.show()\n",
    "\n",
    "print(f'\\n> Random Forest baseline model accuracy score: {round(accuracy_score(y, oof_predictions), 4)}\\n')\n",
    "\n",
    "print(classification_report(y, oof_predictions))\n",
    "\n",
    "cm = confusion_matrix(y, oof_predictions)\n",
    "\n",
    "plt.figure(figsize=(6, 5))\n",
    "sns.heatmap(cm, annot=True, fmt='d', annot_kws={'fontsize': 14}, cmap='Blues', cbar=False)\n",
    "plt.title('Confusion Matrix', fontsize=14)\n",
    "plt.xlabel('\\nPredicted', fontsize=14)\n",
    "plt.ylabel('Actual\\n', fontsize=14)\n",
    "plt.yticks(ticks=np.arange(0.5, 7.5), labels=list(range(1, 8)), fontsize=10)\n",
    "plt.xticks(ticks=np.arange(0.5, 7.5), labels=list(range(1, 8)), fontsize=10)\n",
    "plt.show()"
   ]
  },
  {
   "cell_type": "markdown",
   "metadata": {},
   "source": [
    "We can see the model is doing ok, but it's having a hard time distinguishing between a few classes, particularly class 2, where it had an F1-Score of only 68%.\n",
    "\n",
    "- First Solution\n",
    "\n",
    "Find models that perfom better.\n",
    "\n",
    "- Second Solution\n",
    "\n",
    "Find features that help to distinguish specific classes, specially the ones that the models is having a hard time classifing."
   ]
  },
  {
   "cell_type": "markdown",
   "metadata": {},
   "source": [
    "### Validation Results"
   ]
  },
  {
   "cell_type": "code",
   "execution_count": 9,
   "metadata": {},
   "outputs": [],
   "source": [
    "predictions = rf_baseline_model.predict(X_val)"
   ]
  },
  {
   "cell_type": "code",
   "execution_count": 10,
   "metadata": {},
   "outputs": [
    {
     "data": {
      "text/plain": [
       "0.7710619182846167"
      ]
     },
     "execution_count": 10,
     "metadata": {},
     "output_type": "execute_result"
    }
   ],
   "source": [
    "accuracy_score(y_val, predictions)"
   ]
  }
 ],
 "metadata": {
  "kernelspec": {
   "display_name": "Python 3",
   "language": "python",
   "name": "python3"
  },
  "language_info": {
   "codemirror_mode": {
    "name": "ipython",
    "version": 3
   },
   "file_extension": ".py",
   "mimetype": "text/x-python",
   "name": "python",
   "nbconvert_exporter": "python",
   "pygments_lexer": "ipython3",
   "version": "3.7.4"
  }
 },
 "nbformat": 4,
 "nbformat_minor": 2
}
